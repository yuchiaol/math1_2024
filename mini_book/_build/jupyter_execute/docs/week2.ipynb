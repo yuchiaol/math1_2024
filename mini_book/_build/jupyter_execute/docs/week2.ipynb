{
 "cells": [
  {
   "cell_type": "markdown",
   "id": "d1a50196",
   "metadata": {},
   "source": [
    "(week2)=\n",
    "\n",
    "# Week2 - responses to inputs & complexify"
   ]
  }
 ],
 "metadata": {
  "jupytext": {
   "text_representation": {
    "extension": ".md",
    "format_name": "myst"
   }
  },
  "kernelspec": {
   "display_name": "Python 3",
   "language": "python",
   "name": "python3"
  },
  "source_map": [
   10
  ]
 },
 "nbformat": 4,
 "nbformat_minor": 5
}