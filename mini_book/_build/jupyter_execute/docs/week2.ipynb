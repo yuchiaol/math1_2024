{
 "cells": [
  {
   "cell_type": "markdown",
   "id": "52347cfe",
   "metadata": {},
   "source": [
    "(week2)=\n",
    "\n",
    "# Week2 - responses to inputs & complexify\n",
    "\n",
    "## Response to exponential input\n",
    "Consider an ODE: $$\\frac{dy}{dt}=ay+e^{st},$$ where a and s are known. We call y(t) the \"exponential response\" and exponential term on right hand side the \"input\" or \"forcing\".\n",
    "\n",
    "Assume initial condition at t =0: $$y=y(0)$$, we now look for particular solution in the form of:\n",
    "$$y_{p}(t) = Ye^{st}$$\n",
    "\n",
    "Plug it into the ODE, we can get\n",
    "$$Yse^{st} = aYe^{st} + e^{st} \\rightarrow Ys=Ya+1 \\rightarrow (s-a)Y=1 \\rightarrow Y=\\frac{1}{s-a}$$\n",
    "\n",
    "The complete solution is\n",
    "$$y(t)=y_{p}(t)+y_{h}(t) = \\frac{e^{st}}{s-a} + Ce^{at}$$\n",
    "\n",
    "To determine C, we use the initial condition\n",
    "$$y(0)=\\frac{1}{s-a}+C \\rightarrow C = y(0) - \\frac{1}{s-a}$$\n",
    "\n",
    "So the solution is\n",
    "$$y(t) = \\frac{e^{st}}{s-a} + [y(0)-\\frac{1}{s-a}]e^{at} = \\frac{e^{st}-e^{at}}{s-a}+y(0)e^{at}$$\n",
    "\n",
    "We also define the very particular solution\n",
    "$$y_{vp}(t) = \\frac{e^{st}-e^{at}}{s-a} \\rightarrow y_{vp}(0) = 0$$\n",
    "\n",
    "Note that we can calculate the very particular solution this way:\n",
    "$$\n",
    "y_{vp} = \\int_{0}^{t}e^{a(t-x)}e^{sx}dx = e^{at}\\int_{0}^{t}e^{(s-a)x}dx = e^{at}\\frac{1}{s-a}e^{(s-a)x}\n",
    " \\verb|\\||^{x=t}_{x=0} \\\n",
    "=\\frac{e^{st}-e^{at}}{s-a}\n",
    "$$\n",
    "````{prf:example}\n",
    ":label: my-example_exp_response1\n",
    "If s=a, then the resonance occurs.\n",
    "What is the solution? How can we get the solution?\n",
    "We can use L'Hospital's rule:\n",
    "$$\n",
    "\\lim_{s\\rightarrow a} \\frac{\\frac{d}{ds}(e^{st}-e^{at})}{\\frac{d}{ds}(s-a)} \n",
    "= \\lim_{s\\rightarrow a} \\frac{te^{st}}{1} = te^{at}\n",
    "$$\n",
    "````\n",
    "## Response to oscillating input\n",
    "\n",
    "\n",
    "\n",
    "\\begin{eqnarray}\n",
    "\\frac{dy}{dt}=ay+e^{st}\n",
    "\\end{eqnarray}"
   ]
  }
 ],
 "metadata": {
  "jupytext": {
   "text_representation": {
    "extension": ".md",
    "format_name": "myst"
   }
  },
  "kernelspec": {
   "display_name": "Python 3",
   "language": "python",
   "name": "python3"
  },
  "source_map": [
   10
  ]
 },
 "nbformat": 4,
 "nbformat_minor": 5
}