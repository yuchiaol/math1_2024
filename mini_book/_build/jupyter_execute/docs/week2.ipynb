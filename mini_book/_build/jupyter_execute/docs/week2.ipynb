{
 "cells": [
  {
   "cell_type": "markdown",
   "id": "767d434e",
   "metadata": {},
   "source": [
    "(week2)=\n",
    "\n",
    "# Week2 - responses to inputs & complexify\n",
    "\n",
    "## Response to exponential input\n",
    "Consider an ODE: $$\\frac{dy}{dt}=ay+e^{st},$$ where a and s are known. We call y(t) the \"exponential response\" and exponential term on right hand side the \"input\" or \"forcing\".\n",
    "\n",
    "Assume initial condition at t =0: $$y=y(0)$$, we now look for particular solution in the form of:\n",
    "$$y_{p}(t) = Ye^{st}$$\n",
    "\n",
    "Plug it into the ODE, we can get\n",
    "$$Yse^{st} = aYe^{st} + e^{st} \\rightarrow Ys=Ya+1 \\rightarrow (s-a)Y=1 \\rightarrow Y=\\frac{1}{s-a}$$\n",
    "\n",
    "The complete solution is\n",
    "$$y(t)=y_{p}(t)+y_{h}(t) = \\frac{e^{st}}{s-a} + Ce^{at}$$\n",
    "\n",
    "To determine C, we use the initial condition\n",
    "$$y(0)=\\frac{1}{s-a}+C \\rightarrow C = y(0) - \\frac{1}{s-a}$$\n",
    "\n",
    "So the solution is\n",
    "$$y(t) = \\frac{e^{st}}{s-a} + [y(0)-\\frac{1}{s-a}]e^{at} = \\frac{e^{st}-e^{at}}{s-a}+y(0)e^{at}$$\n",
    "\n",
    "We also define the very particular solution\n",
    "$$y_{vp}(t) = \\frac{e^{st}-e^{at}}{s-a} \\rightarrow y_{vp}(0) = 0$$\n",
    "\n",
    "````{prf:example}\n",
    ":label: my-example_exp_response1\n",
    "If s=a, then the resonance occurs  What is the solution? How can we get the solution?\n",
    "We can use L'Hospital's rule:\n",
    "\\begin{eqnarray}\n",
    "\\lim_{s\\rightarrow a} \\frac{\\frac{d}{ds}(e^{st}-e^{at})}{\\frac{d}{ds}(s-a)} \n",
    "= \\lim_{s\\rightarrow a} \\frac{te^{st}}{1} = te^{at}\n",
    "\\end{eqnarray}\n",
    "````\n",
    "\n",
    "\\begin{eqnarray}\n",
    "\\frac{dy}{dt}=ay+e^{st}\n",
    "\\end{eqnarray}"
   ]
  }
 ],
 "metadata": {
  "jupytext": {
   "text_representation": {
    "extension": ".md",
    "format_name": "myst"
   }
  },
  "kernelspec": {
   "display_name": "Python 3",
   "language": "python",
   "name": "python3"
  },
  "source_map": [
   10
  ]
 },
 "nbformat": 4,
 "nbformat_minor": 5
}